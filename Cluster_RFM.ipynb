{
 "cells": [
  {
   "cell_type": "markdown",
   "id": "74cda532",
   "metadata": {},
   "source": [
    "### Análisis de Segmentación de Clientes\n",
    "\n",
    "RFM es una técnica de análisis de clientes que permite segmentarlos en grupos basándose en su comportamiento de compra. El nombre viene de las tres dimensiones que analiza:\n",
    "\n",
    "R - Recency (Recencia)\n",
    "\n",
    "* Qué mide: ¿Cuánto tiempo ha pasado desde la última compra del cliente?\n",
    "\n",
    "* Objetivo: Identificar clientes activos vs. inactivos\n",
    "\n",
    "* Fórmula típica: Fecha actual - Fecha última compra\n",
    "\n",
    "F - Frequency (Frecuencia)\n",
    "\n",
    "* Qué mide: ¿Con qué frecuencia compra el cliente?\n",
    "\n",
    "* Objetivo: Identificar clientes leales vs. ocasionales\n",
    "\n",
    "* Fórmula típica: Número total de transacciones\n",
    "\n",
    "M - Monetary (Valor Monetario)\n",
    "\n",
    "* Qué mide: ¿Cuánto dinero ha gastado el cliente?\n",
    "\n",
    "* Objetivo: Identificar clientes más valiosos\n",
    "\n",
    "* Fórmula típica: Suma total gastada"
   ]
  },
  {
   "cell_type": "code",
   "execution_count": 262,
   "id": "63e729d5",
   "metadata": {},
   "outputs": [],
   "source": [
    "import pandas as pd\n",
    "import numpy as np\n",
    "import seaborn as sns\n",
    "import matplotlib.pyplot as plt\n",
    "from sklearn.preprocessing import StandardScaler\n",
    "from sklearn.cluster import KMeans"
   ]
  },
  {
   "cell_type": "code",
   "execution_count": 263,
   "id": "2ad740a8",
   "metadata": {},
   "outputs": [
    {
     "data": {
      "text/html": [
       "<div>\n",
       "<style scoped>\n",
       "    .dataframe tbody tr th:only-of-type {\n",
       "        vertical-align: middle;\n",
       "    }\n",
       "\n",
       "    .dataframe tbody tr th {\n",
       "        vertical-align: top;\n",
       "    }\n",
       "\n",
       "    .dataframe thead th {\n",
       "        text-align: right;\n",
       "    }\n",
       "</style>\n",
       "<table border=\"1\" class=\"dataframe\">\n",
       "  <thead>\n",
       "    <tr style=\"text-align: right;\">\n",
       "      <th></th>\n",
       "      <th>InvoiceNo</th>\n",
       "      <th>StockCode</th>\n",
       "      <th>Description</th>\n",
       "      <th>Quantity</th>\n",
       "      <th>InvoiceDate</th>\n",
       "      <th>UnitPrice</th>\n",
       "      <th>CustomerID</th>\n",
       "      <th>Country</th>\n",
       "    </tr>\n",
       "  </thead>\n",
       "  <tbody>\n",
       "    <tr>\n",
       "      <th>964</th>\n",
       "      <td>536544</td>\n",
       "      <td>21716</td>\n",
       "      <td>BOYS VINTAGE TIN SEASIDE BUCKET</td>\n",
       "      <td>1.0</td>\n",
       "      <td>2010-12-01T14:32:00Z</td>\n",
       "      <td>5.06</td>\n",
       "      <td>NaN</td>\n",
       "      <td>United Kingdom</td>\n",
       "    </tr>\n",
       "    <tr>\n",
       "      <th>18219</th>\n",
       "      <td>537846</td>\n",
       "      <td>22378</td>\n",
       "      <td>WALL TIDY RETROSPOT</td>\n",
       "      <td>10.0</td>\n",
       "      <td>2010-12-08T15:25:00Z</td>\n",
       "      <td>2.1</td>\n",
       "      <td>15347.0</td>\n",
       "      <td>United Kingdom</td>\n",
       "    </tr>\n",
       "    <tr>\n",
       "      <th>5638</th>\n",
       "      <td>536973</td>\n",
       "      <td>22457</td>\n",
       "      <td>NATURAL SLATE HEART CHALKBOARD</td>\n",
       "      <td>12.0</td>\n",
       "      <td>2010-12-03T13:43:00Z</td>\n",
       "      <td>2.95</td>\n",
       "      <td>17787.0</td>\n",
       "      <td>United Kingdom</td>\n",
       "    </tr>\n",
       "    <tr>\n",
       "      <th>12257</th>\n",
       "      <td>537429</td>\n",
       "      <td>22536</td>\n",
       "      <td>MAGIC DRAWING SLATE PURDEY</td>\n",
       "      <td>1.0</td>\n",
       "      <td>2010-12-06T15:54:00Z</td>\n",
       "      <td>0.42</td>\n",
       "      <td>12748.0</td>\n",
       "      <td>United Kingdom</td>\n",
       "    </tr>\n",
       "    <tr>\n",
       "      <th>611</th>\n",
       "      <td>536544</td>\n",
       "      <td>22573</td>\n",
       "      <td>STAR WOODEN CHRISTMAS DECORATION</td>\n",
       "      <td>5.0</td>\n",
       "      <td>2010-12-01T14:32:00Z</td>\n",
       "      <td>1.66</td>\n",
       "      <td>NaN</td>\n",
       "      <td>United Kingdom</td>\n",
       "    </tr>\n",
       "  </tbody>\n",
       "</table>\n",
       "</div>"
      ],
      "text/plain": [
       "      InvoiceNo StockCode                       Description  Quantity  \\\n",
       "964      536544     21716   BOYS VINTAGE TIN SEASIDE BUCKET       1.0   \n",
       "18219    537846     22378              WALL TIDY RETROSPOT       10.0   \n",
       "5638     536973     22457   NATURAL SLATE HEART CHALKBOARD       12.0   \n",
       "12257    537429     22536        MAGIC DRAWING SLATE PURDEY       1.0   \n",
       "611      536544     22573  STAR WOODEN CHRISTMAS DECORATION       5.0   \n",
       "\n",
       "                InvoiceDate UnitPrice  CustomerID         Country  \n",
       "964    2010-12-01T14:32:00Z      5.06         NaN  United Kingdom  \n",
       "18219  2010-12-08T15:25:00Z       2.1     15347.0  United Kingdom  \n",
       "5638   2010-12-03T13:43:00Z      2.95     17787.0  United Kingdom  \n",
       "12257  2010-12-06T15:54:00Z      0.42     12748.0  United Kingdom  \n",
       "611    2010-12-01T14:32:00Z      1.66         NaN  United Kingdom  "
      ]
     },
     "execution_count": 263,
     "metadata": {},
     "output_type": "execute_result"
    }
   ],
   "source": [
    "df = pd.read_csv('df_Online_Retail.csv')\n",
    "df.sample(5)"
   ]
  },
  {
   "cell_type": "code",
   "execution_count": 264,
   "id": "96ac4179",
   "metadata": {},
   "outputs": [
    {
     "name": "stdout",
     "output_type": "stream",
     "text": [
      "<class 'pandas.core.frame.DataFrame'>\n",
      "RangeIndex: 50000 entries, 0 to 49999\n",
      "Data columns (total 8 columns):\n",
      " #   Column       Non-Null Count  Dtype  \n",
      "---  ------       --------------  -----  \n",
      " 0   InvoiceNo    50000 non-null  object \n",
      " 1   StockCode    50000 non-null  object \n",
      " 2   Description  49857 non-null  object \n",
      " 3   Quantity     50000 non-null  float64\n",
      " 4   InvoiceDate  50000 non-null  object \n",
      " 5   UnitPrice    50000 non-null  object \n",
      " 6   CustomerID   31599 non-null  float64\n",
      " 7   Country      50000 non-null  object \n",
      "dtypes: float64(2), object(6)\n",
      "memory usage: 3.1+ MB\n"
     ]
    }
   ],
   "source": [
    "df.info()"
   ]
  },
  {
   "cell_type": "code",
   "execution_count": 265,
   "id": "0114f1bb",
   "metadata": {},
   "outputs": [
    {
     "name": "stdout",
     "output_type": "stream",
     "text": [
      "Valores 'Null' en UnitPrice: 15\n"
     ]
    },
    {
     "data": {
      "text/plain": [
       "array(['1.25', '0.29', '2.1', '0.95', '1.95', '2.55', '1.65', '0.42',\n",
       "       '1.45', '2.95', '9.95', '4.95', '3.75', '4.25', '0.85', '0.65',\n",
       "       '3.35', '12.75', '8.5', '5.95', '6.75', '6.95', '7.95', '1.69',\n",
       "       '4.65', '18.0', '14.95', '16.95', '19.95', '3.95', '1.06', '0.55',\n",
       "       '1.49', '3.25', '10.95', '7.65', '18.95', '6.35', '2.25', '8.95',\n",
       "       '50.0', '2.51', '1.66', '0.43', '7.62', '4.21', '2.98', '5.91',\n",
       "       '3.36', '16.98', '1.28', '11.02', '8.47', '0.81', '5.06', '12.72',\n",
       "       '10.17', '6.77', '20.38', '11.87', '25.49', '51.02', '9.32',\n",
       "       '34.0', '0.84', '16.13', '21.23', '18.68', '14.43', '3.81', '4.24',\n",
       "       '1.26', '5.09', '2.96', '2.11', '569.77', '13.57', '0.0', '0.12',\n",
       "       '5.45', '6.45', '29.95', '3.39', '4.6', '1.05', '3.45', '0.21',\n",
       "       '5.49', '59.53', '15.28', '19.53', '2.82', '1.27', '3.19', '0.99',\n",
       "       '2.13', '5.51', '8.49', '8.07', '7.22', '2.54', '9.34', '5.94',\n",
       "       '607.49', '0.19', '35.75', '1.85', '2.75', 'Null', '10.75',\n",
       "       '24.95', '0.64', '79.95', '0.72', '11.95', '0.03', '0.75', '15.0',\n",
       "       '0.36', '0.34', '0.16', '0.32', '1.88', '7.25', '0.18', '295.0',\n",
       "       '10.65', '40.0', '5.74', '29.79', '254.43', '121.06', '498.47',\n",
       "       '1.84', '6.37', '887.52', '0.38', '3.83', '28.0', '7.5', '42.95',\n",
       "       '21.95', '26.95', '29.29', '0.14', '5.55', '49.95', '1.0', '3.49',\n",
       "       '76.55', '10.62', '7.64', '863.74', '39.96', '11.05', '940.87',\n",
       "       '1.48', '15.95', '1.55', '35.0', '4.41', '0.3', '9.77', '0.83',\n",
       "       '950.99', '6.6', '1.93', '3.21', '0.53', '924.59', '95.38',\n",
       "       '12.95', '52.0', '281.0', '631.31', '313.78', '0.07', '13541.33',\n",
       "       '1.7', '836.14', '229.74', '448.0', '593.15', '607.96', '13474.79',\n",
       "       '5519.25', '6706.71', '39.95', '4.78', '19.84', '2.31', '6.38',\n",
       "       '9.89', '3.86', '52.77', '3.88', '32.69', '701.95', '10.19',\n",
       "       '729.42', '267.12', '165.0', '145.0', '19.94', '885.94', '0.5',\n",
       "       '0.25', '35.95', '547.32', '620.68', '822.94', '85.79', '847.42',\n",
       "       '133.08', '1.24', '2.94', '2.09', '1.64', '10.0', '6.79', '907.47',\n",
       "       '4.81', '175.0', '0.1', '0.17', '2.5', '641.86', '11.9', '584.59',\n",
       "       '6.25', '2.12', '125.0', '966.92', '316.3', '1130.9', '20.0',\n",
       "       '5.0', '113.45', '198.17', '34.04', '340.72', '146.85', '5.76',\n",
       "       '42.5', '26.93', '12.34', '3.5', '2.0', '3.82', '3.37', '1.53',\n",
       "       '0.94', '34.95', '3.0', '65.0', '510.79', '1.91', '565.37',\n",
       "       '10.85', '803.55', '662.14', '10.2', '603.62', '396.81', '3.38',\n",
       "       '0.4', '13.88', '350.78', '250.83', '22.0', '150.0', '182.37',\n",
       "       '5.75', '112.37', '164.55', '337.23', '514.0', '549.79', '324.43',\n",
       "       '311.66', '128.6', '114.34', '103.57', '189.57', '152.68', '50.6',\n",
       "       '50.64', '29.53', '1.87', '1298.4', '38.26', '42.55', '627.47',\n",
       "       '0.2', '469.7', '16888.02', '16453.71', '192.86', '22.97', '3.98',\n",
       "       '25.53', '109.19', '17.02', '219.24', '458.29', '35.09', '0.37',\n",
       "       '1126.0', '306.35', '29.74', '369.95', '278.97', '5.72', '557.0',\n",
       "       '6.7'], dtype=object)"
      ]
     },
     "execution_count": 265,
     "metadata": {},
     "output_type": "execute_result"
    }
   ],
   "source": [
    "print(\"Valores 'Null' en UnitPrice:\", (df['UnitPrice'] == 'Null').sum())\n",
    "df['UnitPrice'].unique()"
   ]
  },
  {
   "cell_type": "code",
   "execution_count": 266,
   "id": "1c257ee3",
   "metadata": {},
   "outputs": [
    {
     "name": "stdout",
     "output_type": "stream",
     "text": [
      "-9360.0\n",
      "2880.0\n"
     ]
    }
   ],
   "source": [
    "print(df['Quantity'].min())\n",
    "print(df['Quantity'].max())"
   ]
  },
  {
   "cell_type": "markdown",
   "id": "003a139c",
   "metadata": {},
   "source": [
    "Debido a que no hace mucho sentido tener valores negativos ya que el set de datos solo nos muestra las compras de los clientes y no las compras a del almacen a mayoristas procederemos a ajustar los numeros a positivos"
   ]
  },
  {
   "cell_type": "code",
   "execution_count": 267,
   "id": "622d5cb4",
   "metadata": {},
   "outputs": [
    {
     "name": "stdout",
     "output_type": "stream",
     "text": [
      "1.0\n"
     ]
    }
   ],
   "source": [
    "df['Quantity']= df['Quantity'].abs()\n",
    "print(df['Quantity'].min())"
   ]
  },
  {
   "cell_type": "code",
   "execution_count": 268,
   "id": "892436a1",
   "metadata": {},
   "outputs": [
    {
     "name": "stdout",
     "output_type": "stream",
     "text": [
      "<class 'pandas.core.frame.DataFrame'>\n",
      "Index: 49985 entries, 0 to 49999\n",
      "Data columns (total 8 columns):\n",
      " #   Column       Non-Null Count  Dtype         \n",
      "---  ------       --------------  -----         \n",
      " 0   InvoiceNo    49985 non-null  object        \n",
      " 1   StockCode    49985 non-null  object        \n",
      " 2   Description  49842 non-null  object        \n",
      " 3   Quantity     49985 non-null  int64         \n",
      " 4   InvoiceDate  49985 non-null  datetime64[ns]\n",
      " 5   UnitPrice    49985 non-null  float64       \n",
      " 6   CustomerID   31586 non-null  float64       \n",
      " 7   Country      49985 non-null  object        \n",
      "dtypes: datetime64[ns](1), float64(2), int64(1), object(4)\n",
      "memory usage: 3.4+ MB\n"
     ]
    }
   ],
   "source": [
    "    # vamos a transformar la columna InvoiceDate a tipo fecha\n",
    "df['InvoiceDate']= pd.to_datetime(df['InvoiceDate'], format= 'ISO8601').dt.tz_localize(None)\n",
    "df['Quantity']= df['Quantity'].astype(int)\n",
    "\n",
    "# vamos a eliminar los valores que no son numericos\n",
    "df= df[df['UnitPrice'] != 'Null']\n",
    "# una vez filtrado, convertimos la columna a tipo float\n",
    "df['UnitPrice']= df['UnitPrice'].astype(float)\n",
    "df.info()"
   ]
  },
  {
   "cell_type": "code",
   "execution_count": 269,
   "id": "2f27b654",
   "metadata": {},
   "outputs": [
    {
     "name": "stdout",
     "output_type": "stream",
     "text": [
      " Total de datos nulos: \n",
      "InvoiceNo          0\n",
      "StockCode          0\n",
      "Description      143\n",
      "Quantity           0\n",
      "InvoiceDate        0\n",
      "UnitPrice          0\n",
      "CustomerID     18399\n",
      "Country            0\n",
      "dtype: int64\n",
      "El porcentaje de valores nulos para customerid es:36.81%\n"
     ]
    }
   ],
   "source": [
    "print(f' Total de datos nulos: \\n{df.isnull().sum()}')\n",
    "print(f'El porcentaje de valores nulos para customerid es:{df['CustomerID'].isna().sum()/ len(df):.2%}')"
   ]
  },
  {
   "cell_type": "code",
   "execution_count": 270,
   "id": "06b49118",
   "metadata": {},
   "outputs": [
    {
     "data": {
      "text/html": [
       "<div>\n",
       "<style scoped>\n",
       "    .dataframe tbody tr th:only-of-type {\n",
       "        vertical-align: middle;\n",
       "    }\n",
       "\n",
       "    .dataframe tbody tr th {\n",
       "        vertical-align: top;\n",
       "    }\n",
       "\n",
       "    .dataframe thead th {\n",
       "        text-align: right;\n",
       "    }\n",
       "</style>\n",
       "<table border=\"1\" class=\"dataframe\">\n",
       "  <thead>\n",
       "    <tr style=\"text-align: right;\">\n",
       "      <th></th>\n",
       "      <th>InvoiceNo</th>\n",
       "      <th>StockCode</th>\n",
       "      <th>Description</th>\n",
       "      <th>Quantity</th>\n",
       "      <th>InvoiceDate</th>\n",
       "      <th>UnitPrice</th>\n",
       "      <th>CustomerID</th>\n",
       "      <th>Country</th>\n",
       "    </tr>\n",
       "  </thead>\n",
       "  <tbody>\n",
       "    <tr>\n",
       "      <th>0</th>\n",
       "      <td>536520</td>\n",
       "      <td>21123</td>\n",
       "      <td>SET/10 IVORY POLKADOT PARTY CANDLES</td>\n",
       "      <td>1</td>\n",
       "      <td>2010-12-01 12:43:00</td>\n",
       "      <td>1.25</td>\n",
       "      <td>14729.0</td>\n",
       "      <td>United Kingdom</td>\n",
       "    </tr>\n",
       "    <tr>\n",
       "      <th>1</th>\n",
       "      <td>536520</td>\n",
       "      <td>21124</td>\n",
       "      <td>SET/10 BLUE POLKADOT PARTY CANDLES</td>\n",
       "      <td>1</td>\n",
       "      <td>2010-12-01 12:43:00</td>\n",
       "      <td>1.25</td>\n",
       "      <td>14729.0</td>\n",
       "      <td>United Kingdom</td>\n",
       "    </tr>\n",
       "    <tr>\n",
       "      <th>2</th>\n",
       "      <td>536520</td>\n",
       "      <td>21122</td>\n",
       "      <td>SET/10 PINK POLKADOT PARTY CANDLES</td>\n",
       "      <td>1</td>\n",
       "      <td>2010-12-01 12:43:00</td>\n",
       "      <td>1.25</td>\n",
       "      <td>14729.0</td>\n",
       "      <td>United Kingdom</td>\n",
       "    </tr>\n",
       "    <tr>\n",
       "      <th>3</th>\n",
       "      <td>536520</td>\n",
       "      <td>84378</td>\n",
       "      <td>SET OF 3 HEART COOKIE CUTTERS</td>\n",
       "      <td>1</td>\n",
       "      <td>2010-12-01 12:43:00</td>\n",
       "      <td>1.25</td>\n",
       "      <td>14729.0</td>\n",
       "      <td>United Kingdom</td>\n",
       "    </tr>\n",
       "    <tr>\n",
       "      <th>4</th>\n",
       "      <td>536520</td>\n",
       "      <td>21985</td>\n",
       "      <td>PACK OF 12 HEARTS DESIGN TISSUES</td>\n",
       "      <td>12</td>\n",
       "      <td>2010-12-01 12:43:00</td>\n",
       "      <td>0.29</td>\n",
       "      <td>14729.0</td>\n",
       "      <td>United Kingdom</td>\n",
       "    </tr>\n",
       "  </tbody>\n",
       "</table>\n",
       "</div>"
      ],
      "text/plain": [
       "  InvoiceNo StockCode                          Description  Quantity  \\\n",
       "0    536520     21123  SET/10 IVORY POLKADOT PARTY CANDLES         1   \n",
       "1    536520     21124   SET/10 BLUE POLKADOT PARTY CANDLES         1   \n",
       "2    536520     21122   SET/10 PINK POLKADOT PARTY CANDLES         1   \n",
       "3    536520     84378        SET OF 3 HEART COOKIE CUTTERS         1   \n",
       "4    536520     21985    PACK OF 12 HEARTS DESIGN TISSUES         12   \n",
       "\n",
       "          InvoiceDate  UnitPrice  CustomerID         Country  \n",
       "0 2010-12-01 12:43:00       1.25     14729.0  United Kingdom  \n",
       "1 2010-12-01 12:43:00       1.25     14729.0  United Kingdom  \n",
       "2 2010-12-01 12:43:00       1.25     14729.0  United Kingdom  \n",
       "3 2010-12-01 12:43:00       1.25     14729.0  United Kingdom  \n",
       "4 2010-12-01 12:43:00       0.29     14729.0  United Kingdom  "
      ]
     },
     "execution_count": 270,
     "metadata": {},
     "output_type": "execute_result"
    }
   ],
   "source": [
    "df.head()"
   ]
  },
  {
   "cell_type": "markdown",
   "id": "5de37099",
   "metadata": {},
   "source": [
    "Como podemos ver la mayor cantidad de datos nulos o vacios procede del Id de los clientes, dado que estos son cerca del 37% de nuestros datos, por ahora se decide no descartarlos. "
   ]
  },
  {
   "cell_type": "code",
   "execution_count": 271,
   "id": "d3e185a5",
   "metadata": {},
   "outputs": [
    {
     "name": "stdout",
     "output_type": "stream",
     "text": [
      "Fecha minima: 2010-12-01 12:43:00\n",
      "Fecha maxima: 2011-01-10 11:38:00\n"
     ]
    }
   ],
   "source": [
    "# Vamos a ver que intervalos de fechas tenemos en el dataset\n",
    "print(f'Fecha minima: {df[\"InvoiceDate\"].min()}')\n",
    "print(f'Fecha maxima: {df[\"InvoiceDate\"].max()}')"
   ]
  },
  {
   "cell_type": "markdown",
   "id": "341ced8f",
   "metadata": {},
   "source": [
    "Nuestro Data set comprende las compras del mes de Diciembre hasta el mes de Enero siendo mas especificos el dia 10."
   ]
  },
  {
   "cell_type": "code",
   "execution_count": 272,
   "id": "378a4de8",
   "metadata": {},
   "outputs": [
    {
     "data": {
      "text/html": [
       "<div>\n",
       "<style scoped>\n",
       "    .dataframe tbody tr th:only-of-type {\n",
       "        vertical-align: middle;\n",
       "    }\n",
       "\n",
       "    .dataframe tbody tr th {\n",
       "        vertical-align: top;\n",
       "    }\n",
       "\n",
       "    .dataframe thead th {\n",
       "        text-align: right;\n",
       "    }\n",
       "</style>\n",
       "<table border=\"1\" class=\"dataframe\">\n",
       "  <thead>\n",
       "    <tr style=\"text-align: right;\">\n",
       "      <th></th>\n",
       "      <th>Customer_id</th>\n",
       "    </tr>\n",
       "  </thead>\n",
       "  <tbody>\n",
       "    <tr>\n",
       "      <th>0</th>\n",
       "      <td>14729.0</td>\n",
       "    </tr>\n",
       "    <tr>\n",
       "      <th>1</th>\n",
       "      <td>12748.0</td>\n",
       "    </tr>\n",
       "    <tr>\n",
       "      <th>2</th>\n",
       "      <td>15012.0</td>\n",
       "    </tr>\n",
       "    <tr>\n",
       "      <th>3</th>\n",
       "      <td>12868.0</td>\n",
       "    </tr>\n",
       "    <tr>\n",
       "      <th>4</th>\n",
       "      <td>17572.0</td>\n",
       "    </tr>\n",
       "    <tr>\n",
       "      <th>...</th>\n",
       "      <td>...</td>\n",
       "    </tr>\n",
       "    <tr>\n",
       "      <th>1026</th>\n",
       "      <td>12524.0</td>\n",
       "    </tr>\n",
       "    <tr>\n",
       "      <th>1027</th>\n",
       "      <td>17811.0</td>\n",
       "    </tr>\n",
       "    <tr>\n",
       "      <th>1028</th>\n",
       "      <td>16850.0</td>\n",
       "    </tr>\n",
       "    <tr>\n",
       "      <th>1029</th>\n",
       "      <td>14321.0</td>\n",
       "    </tr>\n",
       "    <tr>\n",
       "      <th>1030</th>\n",
       "      <td>15326.0</td>\n",
       "    </tr>\n",
       "  </tbody>\n",
       "</table>\n",
       "<p>1031 rows × 1 columns</p>\n",
       "</div>"
      ],
      "text/plain": [
       "      Customer_id\n",
       "0         14729.0\n",
       "1         12748.0\n",
       "2         15012.0\n",
       "3         12868.0\n",
       "4         17572.0\n",
       "...           ...\n",
       "1026      12524.0\n",
       "1027      17811.0\n",
       "1028      16850.0\n",
       "1029      14321.0\n",
       "1030      15326.0\n",
       "\n",
       "[1031 rows x 1 columns]"
      ]
     },
     "execution_count": 272,
     "metadata": {},
     "output_type": "execute_result"
    }
   ],
   "source": [
    "# Vamos a buscar el 'Recency' este indicador nos ayudara a saber que tan reciente es la compra de un cliente\n",
    "# Para ello primero debemos identificar a los Clientes Unicos \n",
    "\n",
    "customer = pd.DataFrame(df['CustomerID'].unique())\n",
    "customer.columns=['Customer_id']\n",
    "customer"
   ]
  },
  {
   "cell_type": "code",
   "execution_count": 273,
   "id": "e378616f",
   "metadata": {},
   "outputs": [
    {
     "data": {
      "text/html": [
       "<div>\n",
       "<style scoped>\n",
       "    .dataframe tbody tr th:only-of-type {\n",
       "        vertical-align: middle;\n",
       "    }\n",
       "\n",
       "    .dataframe tbody tr th {\n",
       "        vertical-align: top;\n",
       "    }\n",
       "\n",
       "    .dataframe thead th {\n",
       "        text-align: right;\n",
       "    }\n",
       "</style>\n",
       "<table border=\"1\" class=\"dataframe\">\n",
       "  <thead>\n",
       "    <tr style=\"text-align: right;\">\n",
       "      <th></th>\n",
       "      <th>Customer_id</th>\n",
       "      <th>Last_purchase</th>\n",
       "    </tr>\n",
       "  </thead>\n",
       "  <tbody>\n",
       "    <tr>\n",
       "      <th>0</th>\n",
       "      <td>12347.0</td>\n",
       "      <td>2010-12-07 14:57:00</td>\n",
       "    </tr>\n",
       "    <tr>\n",
       "      <th>1</th>\n",
       "      <td>12348.0</td>\n",
       "      <td>2010-12-16 19:09:00</td>\n",
       "    </tr>\n",
       "    <tr>\n",
       "      <th>2</th>\n",
       "      <td>12370.0</td>\n",
       "      <td>2010-12-17 09:38:00</td>\n",
       "    </tr>\n",
       "    <tr>\n",
       "      <th>3</th>\n",
       "      <td>12377.0</td>\n",
       "      <td>2010-12-20 09:37:00</td>\n",
       "    </tr>\n",
       "    <tr>\n",
       "      <th>4</th>\n",
       "      <td>12383.0</td>\n",
       "      <td>2010-12-22 14:28:00</td>\n",
       "    </tr>\n",
       "  </tbody>\n",
       "</table>\n",
       "</div>"
      ],
      "text/plain": [
       "   Customer_id       Last_purchase\n",
       "0      12347.0 2010-12-07 14:57:00\n",
       "1      12348.0 2010-12-16 19:09:00\n",
       "2      12370.0 2010-12-17 09:38:00\n",
       "3      12377.0 2010-12-20 09:37:00\n",
       "4      12383.0 2010-12-22 14:28:00"
      ]
     },
     "execution_count": 273,
     "metadata": {},
     "output_type": "execute_result"
    }
   ],
   "source": [
    "# Obtener la ultima compra por cliente\n",
    "\n",
    "customer= df.groupby('CustomerID')['InvoiceDate'].max().reset_index()\n",
    "customer.columns= ['Customer_id','Last_purchase']\n",
    "customer.head()"
   ]
  },
  {
   "cell_type": "code",
   "execution_count": 274,
   "id": "092d1dfe",
   "metadata": {},
   "outputs": [
    {
     "data": {
      "text/html": [
       "<div>\n",
       "<style scoped>\n",
       "    .dataframe tbody tr th:only-of-type {\n",
       "        vertical-align: middle;\n",
       "    }\n",
       "\n",
       "    .dataframe tbody tr th {\n",
       "        vertical-align: top;\n",
       "    }\n",
       "\n",
       "    .dataframe thead th {\n",
       "        text-align: right;\n",
       "    }\n",
       "</style>\n",
       "<table border=\"1\" class=\"dataframe\">\n",
       "  <thead>\n",
       "    <tr style=\"text-align: right;\">\n",
       "      <th></th>\n",
       "      <th>Customer_id</th>\n",
       "      <th>Last_purchase</th>\n",
       "      <th>Recency</th>\n",
       "    </tr>\n",
       "  </thead>\n",
       "  <tbody>\n",
       "    <tr>\n",
       "      <th>0</th>\n",
       "      <td>12347.0</td>\n",
       "      <td>2010-12-07 14:57:00</td>\n",
       "      <td>33</td>\n",
       "    </tr>\n",
       "    <tr>\n",
       "      <th>1</th>\n",
       "      <td>12348.0</td>\n",
       "      <td>2010-12-16 19:09:00</td>\n",
       "      <td>24</td>\n",
       "    </tr>\n",
       "    <tr>\n",
       "      <th>2</th>\n",
       "      <td>12370.0</td>\n",
       "      <td>2010-12-17 09:38:00</td>\n",
       "      <td>24</td>\n",
       "    </tr>\n",
       "    <tr>\n",
       "      <th>3</th>\n",
       "      <td>12377.0</td>\n",
       "      <td>2010-12-20 09:37:00</td>\n",
       "      <td>21</td>\n",
       "    </tr>\n",
       "    <tr>\n",
       "      <th>4</th>\n",
       "      <td>12383.0</td>\n",
       "      <td>2010-12-22 14:28:00</td>\n",
       "      <td>18</td>\n",
       "    </tr>\n",
       "  </tbody>\n",
       "</table>\n",
       "</div>"
      ],
      "text/plain": [
       "   Customer_id       Last_purchase  Recency\n",
       "0      12347.0 2010-12-07 14:57:00       33\n",
       "1      12348.0 2010-12-16 19:09:00       24\n",
       "2      12370.0 2010-12-17 09:38:00       24\n",
       "3      12377.0 2010-12-20 09:37:00       21\n",
       "4      12383.0 2010-12-22 14:28:00       18"
      ]
     },
     "execution_count": 274,
     "metadata": {},
     "output_type": "execute_result"
    }
   ],
   "source": [
    "# vamos a calcular la 'Recency', para ello restaremos la ultima compra registrada (MAX) a cada uno de las fechas de los datos en nuestro df, \n",
    "# Con ello comparamos la fecha mas reciente de compra en nuestro data set con las demas\n",
    "\n",
    "customer['Recency']= (customer['Last_purchase'].max() - customer['Last_purchase']).dt.days\n",
    "customer.head()"
   ]
  },
  {
   "cell_type": "code",
   "execution_count": 275,
   "id": "9883fbb8",
   "metadata": {},
   "outputs": [
    {
     "data": {
      "image/png": "[encoded data removed]",
      "text/plain": [
       "<Figure size 800x600 with 1 Axes>"
      ]
     },
     "metadata": {},
     "output_type": "display_data"
    }
   ],
   "source": [
    "plt.figure(figsize=(8,6))\n",
    "sns.histplot(data= customer, x= 'Recency', kde= True, bins= 10)\n",
    "plt.show()"
   ]
  },
  {
   "cell_type": "code",
   "execution_count": 276,
   "id": "6266db56",
   "metadata": {},
   "outputs": [
    {
     "data": {
      "text/plain": [
       "np.float64(26.0)"
      ]
     },
     "execution_count": 276,
     "metadata": {},
     "output_type": "execute_result"
    }
   ],
   "source": [
    "customer['Recency'].median()"
   ]
  },
  {
   "cell_type": "code",
   "execution_count": 277,
   "id": "78f1a0cb",
   "metadata": {},
   "outputs": [
    {
     "data": {
      "text/plain": [
       "count    1030.000000\n",
       "mean       22.629126\n",
       "std        12.385386\n",
       "min         0.000000\n",
       "25%        17.250000\n",
       "50%        26.000000\n",
       "75%        32.000000\n",
       "max        39.000000\n",
       "Name: Recency, dtype: float64"
      ]
     },
     "execution_count": 277,
     "metadata": {},
     "output_type": "execute_result"
    }
   ],
   "source": [
    "customer['Recency'].describe()"
   ]
  },
  {
   "cell_type": "markdown",
   "id": "9263bf0d",
   "metadata": {},
   "source": [
    "#### Frecuency \n",
    "\n",
    "Frecuencia con la que los usuarios compra uno o mas productos."
   ]
  },
  {
   "cell_type": "code",
   "execution_count": 278,
   "id": "ad993945",
   "metadata": {},
   "outputs": [
    {
     "data": {
      "text/html": [
       "<div>\n",
       "<style scoped>\n",
       "    .dataframe tbody tr th:only-of-type {\n",
       "        vertical-align: middle;\n",
       "    }\n",
       "\n",
       "    .dataframe tbody tr th {\n",
       "        vertical-align: top;\n",
       "    }\n",
       "\n",
       "    .dataframe thead th {\n",
       "        text-align: right;\n",
       "    }\n",
       "</style>\n",
       "<table border=\"1\" class=\"dataframe\">\n",
       "  <thead>\n",
       "    <tr style=\"text-align: right;\">\n",
       "      <th></th>\n",
       "      <th>Customer_id</th>\n",
       "      <th>Frequency</th>\n",
       "    </tr>\n",
       "  </thead>\n",
       "  <tbody>\n",
       "    <tr>\n",
       "      <th>0</th>\n",
       "      <td>12347.0</td>\n",
       "      <td>1</td>\n",
       "    </tr>\n",
       "    <tr>\n",
       "      <th>1</th>\n",
       "      <td>12348.0</td>\n",
       "      <td>1</td>\n",
       "    </tr>\n",
       "    <tr>\n",
       "      <th>2</th>\n",
       "      <td>12370.0</td>\n",
       "      <td>2</td>\n",
       "    </tr>\n",
       "    <tr>\n",
       "      <th>3</th>\n",
       "      <td>12377.0</td>\n",
       "      <td>1</td>\n",
       "    </tr>\n",
       "    <tr>\n",
       "      <th>4</th>\n",
       "      <td>12383.0</td>\n",
       "      <td>1</td>\n",
       "    </tr>\n",
       "  </tbody>\n",
       "</table>\n",
       "</div>"
      ],
      "text/plain": [
       "   Customer_id  Frequency\n",
       "0      12347.0          1\n",
       "1      12348.0          1\n",
       "2      12370.0          2\n",
       "3      12377.0          1\n",
       "4      12383.0          1"
      ]
     },
     "execution_count": 278,
     "metadata": {},
     "output_type": "execute_result"
    }
   ],
   "source": [
    "# Obtener el numero de compras por cliente\n",
    "\n",
    "frequency= df.groupby('CustomerID')['InvoiceNo'].nunique().reset_index()\n",
    "frequency.columns= ['Customer_id','Frequency']\n",
    "frequency.head()"
   ]
  },
  {
   "cell_type": "code",
   "execution_count": 279,
   "id": "5e33bad1",
   "metadata": {},
   "outputs": [
    {
     "data": {
      "image/png": "[encoded data removed]",
      "text/plain": [
       "<Figure size 800x600 with 1 Axes>"
      ]
     },
     "metadata": {},
     "output_type": "display_data"
    }
   ],
   "source": [
    "plt.figure(figsize=(8,6))\n",
    "sns.histplot(data= frequency, x= 'Frequency', kde= True, bins=20)\n",
    "plt.show()"
   ]
  },
  {
   "cell_type": "code",
   "execution_count": 280,
   "id": "2c6e3c9d",
   "metadata": {},
   "outputs": [
    {
     "name": "stdout",
     "output_type": "stream",
     "text": [
      "1.0\n"
     ]
    },
    {
     "data": {
      "text/plain": [
       "count    1030.000000\n",
       "mean        1.880583\n",
       "std         2.057084\n",
       "min         1.000000\n",
       "25%         1.000000\n",
       "50%         1.000000\n",
       "75%         2.000000\n",
       "max        39.000000\n",
       "Name: Frequency, dtype: float64"
      ]
     },
     "execution_count": 280,
     "metadata": {},
     "output_type": "execute_result"
    }
   ],
   "source": [
    "print(frequency['Frequency'].median())\n",
    "frequency['Frequency'].describe()"
   ]
  },
  {
   "cell_type": "code",
   "execution_count": 281,
   "id": "2caa8fb9",
   "metadata": {},
   "outputs": [
    {
     "data": {
      "text/html": [
       "<div>\n",
       "<style scoped>\n",
       "    .dataframe tbody tr th:only-of-type {\n",
       "        vertical-align: middle;\n",
       "    }\n",
       "\n",
       "    .dataframe tbody tr th {\n",
       "        vertical-align: top;\n",
       "    }\n",
       "\n",
       "    .dataframe thead th {\n",
       "        text-align: right;\n",
       "    }\n",
       "</style>\n",
       "<table border=\"1\" class=\"dataframe\">\n",
       "  <thead>\n",
       "    <tr style=\"text-align: right;\">\n",
       "      <th></th>\n",
       "      <th>Customer_id</th>\n",
       "      <th>Last_purchase</th>\n",
       "      <th>Recency</th>\n",
       "      <th>Frequency</th>\n",
       "    </tr>\n",
       "  </thead>\n",
       "  <tbody>\n",
       "    <tr>\n",
       "      <th>0</th>\n",
       "      <td>12347.0</td>\n",
       "      <td>2010-12-07 14:57:00</td>\n",
       "      <td>33</td>\n",
       "      <td>1</td>\n",
       "    </tr>\n",
       "    <tr>\n",
       "      <th>1</th>\n",
       "      <td>12348.0</td>\n",
       "      <td>2010-12-16 19:09:00</td>\n",
       "      <td>24</td>\n",
       "      <td>1</td>\n",
       "    </tr>\n",
       "    <tr>\n",
       "      <th>2</th>\n",
       "      <td>12370.0</td>\n",
       "      <td>2010-12-17 09:38:00</td>\n",
       "      <td>24</td>\n",
       "      <td>2</td>\n",
       "    </tr>\n",
       "    <tr>\n",
       "      <th>3</th>\n",
       "      <td>12377.0</td>\n",
       "      <td>2010-12-20 09:37:00</td>\n",
       "      <td>21</td>\n",
       "      <td>1</td>\n",
       "    </tr>\n",
       "    <tr>\n",
       "      <th>4</th>\n",
       "      <td>12383.0</td>\n",
       "      <td>2010-12-22 14:28:00</td>\n",
       "      <td>18</td>\n",
       "      <td>1</td>\n",
       "    </tr>\n",
       "  </tbody>\n",
       "</table>\n",
       "</div>"
      ],
      "text/plain": [
       "   Customer_id       Last_purchase  Recency  Frequency\n",
       "0      12347.0 2010-12-07 14:57:00       33          1\n",
       "1      12348.0 2010-12-16 19:09:00       24          1\n",
       "2      12370.0 2010-12-17 09:38:00       24          2\n",
       "3      12377.0 2010-12-20 09:37:00       21          1\n",
       "4      12383.0 2010-12-22 14:28:00       18          1"
      ]
     },
     "execution_count": 281,
     "metadata": {},
     "output_type": "execute_result"
    }
   ],
   "source": [
    "# unimos los data sets\n",
    "\n",
    "customer = customer.merge(frequency, on='Customer_id')\n",
    "customer.head()"
   ]
  },
  {
   "cell_type": "markdown",
   "id": "31e332e2",
   "metadata": {},
   "source": [
    "#### Monetary \n",
    "\n",
    "Cuanto ha gastado el usuario en la compra de los productos"
   ]
  },
  {
   "cell_type": "code",
   "execution_count": 282,
   "id": "8665189c",
   "metadata": {},
   "outputs": [
    {
     "data": {
      "text/html": [
       "<div>\n",
       "<style scoped>\n",
       "    .dataframe tbody tr th:only-of-type {\n",
       "        vertical-align: middle;\n",
       "    }\n",
       "\n",
       "    .dataframe tbody tr th {\n",
       "        vertical-align: top;\n",
       "    }\n",
       "\n",
       "    .dataframe thead th {\n",
       "        text-align: right;\n",
       "    }\n",
       "</style>\n",
       "<table border=\"1\" class=\"dataframe\">\n",
       "  <thead>\n",
       "    <tr style=\"text-align: right;\">\n",
       "      <th></th>\n",
       "      <th>InvoiceNo</th>\n",
       "      <th>StockCode</th>\n",
       "      <th>Description</th>\n",
       "      <th>Quantity</th>\n",
       "      <th>InvoiceDate</th>\n",
       "      <th>UnitPrice</th>\n",
       "      <th>CustomerID</th>\n",
       "      <th>Country</th>\n",
       "      <th>Total_price</th>\n",
       "    </tr>\n",
       "  </thead>\n",
       "  <tbody>\n",
       "    <tr>\n",
       "      <th>0</th>\n",
       "      <td>536520</td>\n",
       "      <td>21123</td>\n",
       "      <td>SET/10 IVORY POLKADOT PARTY CANDLES</td>\n",
       "      <td>1</td>\n",
       "      <td>2010-12-01 12:43:00</td>\n",
       "      <td>1.25</td>\n",
       "      <td>14729.0</td>\n",
       "      <td>United Kingdom</td>\n",
       "      <td>1.25</td>\n",
       "    </tr>\n",
       "    <tr>\n",
       "      <th>1</th>\n",
       "      <td>536520</td>\n",
       "      <td>21124</td>\n",
       "      <td>SET/10 BLUE POLKADOT PARTY CANDLES</td>\n",
       "      <td>1</td>\n",
       "      <td>2010-12-01 12:43:00</td>\n",
       "      <td>1.25</td>\n",
       "      <td>14729.0</td>\n",
       "      <td>United Kingdom</td>\n",
       "      <td>1.25</td>\n",
       "    </tr>\n",
       "    <tr>\n",
       "      <th>2</th>\n",
       "      <td>536520</td>\n",
       "      <td>21122</td>\n",
       "      <td>SET/10 PINK POLKADOT PARTY CANDLES</td>\n",
       "      <td>1</td>\n",
       "      <td>2010-12-01 12:43:00</td>\n",
       "      <td>1.25</td>\n",
       "      <td>14729.0</td>\n",
       "      <td>United Kingdom</td>\n",
       "      <td>1.25</td>\n",
       "    </tr>\n",
       "    <tr>\n",
       "      <th>3</th>\n",
       "      <td>536520</td>\n",
       "      <td>84378</td>\n",
       "      <td>SET OF 3 HEART COOKIE CUTTERS</td>\n",
       "      <td>1</td>\n",
       "      <td>2010-12-01 12:43:00</td>\n",
       "      <td>1.25</td>\n",
       "      <td>14729.0</td>\n",
       "      <td>United Kingdom</td>\n",
       "      <td>1.25</td>\n",
       "    </tr>\n",
       "    <tr>\n",
       "      <th>4</th>\n",
       "      <td>536520</td>\n",
       "      <td>21985</td>\n",
       "      <td>PACK OF 12 HEARTS DESIGN TISSUES</td>\n",
       "      <td>12</td>\n",
       "      <td>2010-12-01 12:43:00</td>\n",
       "      <td>0.29</td>\n",
       "      <td>14729.0</td>\n",
       "      <td>United Kingdom</td>\n",
       "      <td>3.48</td>\n",
       "    </tr>\n",
       "  </tbody>\n",
       "</table>\n",
       "</div>"
      ],
      "text/plain": [
       "  InvoiceNo StockCode                          Description  Quantity  \\\n",
       "0    536520     21123  SET/10 IVORY POLKADOT PARTY CANDLES         1   \n",
       "1    536520     21124   SET/10 BLUE POLKADOT PARTY CANDLES         1   \n",
       "2    536520     21122   SET/10 PINK POLKADOT PARTY CANDLES         1   \n",
       "3    536520     84378        SET OF 3 HEART COOKIE CUTTERS         1   \n",
       "4    536520     21985    PACK OF 12 HEARTS DESIGN TISSUES         12   \n",
       "\n",
       "          InvoiceDate  UnitPrice  CustomerID         Country  Total_price  \n",
       "0 2010-12-01 12:43:00       1.25     14729.0  United Kingdom         1.25  \n",
       "1 2010-12-01 12:43:00       1.25     14729.0  United Kingdom         1.25  \n",
       "2 2010-12-01 12:43:00       1.25     14729.0  United Kingdom         1.25  \n",
       "3 2010-12-01 12:43:00       1.25     14729.0  United Kingdom         1.25  \n",
       "4 2010-12-01 12:43:00       0.29     14729.0  United Kingdom         3.48  "
      ]
     },
     "execution_count": 282,
     "metadata": {},
     "output_type": "execute_result"
    }
   ],
   "source": [
    "df['Total_price']= df['Quantity'] * df['UnitPrice']\n",
    "df.head()"
   ]
  },
  {
   "cell_type": "code",
   "execution_count": 283,
   "id": "29038a41",
   "metadata": {},
   "outputs": [
    {
     "data": {
      "text/html": [
       "<div>\n",
       "<style scoped>\n",
       "    .dataframe tbody tr th:only-of-type {\n",
       "        vertical-align: middle;\n",
       "    }\n",
       "\n",
       "    .dataframe tbody tr th {\n",
       "        vertical-align: top;\n",
       "    }\n",
       "\n",
       "    .dataframe thead th {\n",
       "        text-align: right;\n",
       "    }\n",
       "</style>\n",
       "<table border=\"1\" class=\"dataframe\">\n",
       "  <thead>\n",
       "    <tr style=\"text-align: right;\">\n",
       "      <th></th>\n",
       "      <th>Customer_id</th>\n",
       "      <th>Monetary</th>\n",
       "    </tr>\n",
       "  </thead>\n",
       "  <tbody>\n",
       "    <tr>\n",
       "      <th>0</th>\n",
       "      <td>12347.0</td>\n",
       "      <td>711.79</td>\n",
       "    </tr>\n",
       "    <tr>\n",
       "      <th>1</th>\n",
       "      <td>12348.0</td>\n",
       "      <td>892.80</td>\n",
       "    </tr>\n",
       "    <tr>\n",
       "      <th>2</th>\n",
       "      <td>12370.0</td>\n",
       "      <td>1868.02</td>\n",
       "    </tr>\n",
       "    <tr>\n",
       "      <th>3</th>\n",
       "      <td>12377.0</td>\n",
       "      <td>1001.52</td>\n",
       "    </tr>\n",
       "    <tr>\n",
       "      <th>4</th>\n",
       "      <td>12383.0</td>\n",
       "      <td>600.72</td>\n",
       "    </tr>\n",
       "  </tbody>\n",
       "</table>\n",
       "</div>"
      ],
      "text/plain": [
       "   Customer_id  Monetary\n",
       "0      12347.0    711.79\n",
       "1      12348.0    892.80\n",
       "2      12370.0   1868.02\n",
       "3      12377.0   1001.52\n",
       "4      12383.0    600.72"
      ]
     },
     "execution_count": 283,
     "metadata": {},
     "output_type": "execute_result"
    }
   ],
   "source": [
    "monetary= df.groupby('CustomerID')['Total_price'].sum().reset_index()\n",
    "monetary.columns= ['Customer_id','Monetary']\n",
    "monetary.head()"
   ]
  },
  {
   "cell_type": "code",
   "execution_count": 284,
   "id": "0a81ea82",
   "metadata": {},
   "outputs": [
    {
     "data": {
      "text/html": [
       "<div>\n",
       "<style scoped>\n",
       "    .dataframe tbody tr th:only-of-type {\n",
       "        vertical-align: middle;\n",
       "    }\n",
       "\n",
       "    .dataframe tbody tr th {\n",
       "        vertical-align: top;\n",
       "    }\n",
       "\n",
       "    .dataframe thead th {\n",
       "        text-align: right;\n",
       "    }\n",
       "</style>\n",
       "<table border=\"1\" class=\"dataframe\">\n",
       "  <thead>\n",
       "    <tr style=\"text-align: right;\">\n",
       "      <th></th>\n",
       "      <th>Customer_id</th>\n",
       "      <th>Last_purchase</th>\n",
       "      <th>Recency</th>\n",
       "      <th>Frequency</th>\n",
       "      <th>Monetary</th>\n",
       "    </tr>\n",
       "  </thead>\n",
       "  <tbody>\n",
       "    <tr>\n",
       "      <th>0</th>\n",
       "      <td>12347.0</td>\n",
       "      <td>2010-12-07 14:57:00</td>\n",
       "      <td>33</td>\n",
       "      <td>1</td>\n",
       "      <td>711.79</td>\n",
       "    </tr>\n",
       "    <tr>\n",
       "      <th>1</th>\n",
       "      <td>12348.0</td>\n",
       "      <td>2010-12-16 19:09:00</td>\n",
       "      <td>24</td>\n",
       "      <td>1</td>\n",
       "      <td>892.80</td>\n",
       "    </tr>\n",
       "    <tr>\n",
       "      <th>2</th>\n",
       "      <td>12370.0</td>\n",
       "      <td>2010-12-17 09:38:00</td>\n",
       "      <td>24</td>\n",
       "      <td>2</td>\n",
       "      <td>1868.02</td>\n",
       "    </tr>\n",
       "    <tr>\n",
       "      <th>3</th>\n",
       "      <td>12377.0</td>\n",
       "      <td>2010-12-20 09:37:00</td>\n",
       "      <td>21</td>\n",
       "      <td>1</td>\n",
       "      <td>1001.52</td>\n",
       "    </tr>\n",
       "    <tr>\n",
       "      <th>4</th>\n",
       "      <td>12383.0</td>\n",
       "      <td>2010-12-22 14:28:00</td>\n",
       "      <td>18</td>\n",
       "      <td>1</td>\n",
       "      <td>600.72</td>\n",
       "    </tr>\n",
       "  </tbody>\n",
       "</table>\n",
       "</div>"
      ],
      "text/plain": [
       "   Customer_id       Last_purchase  Recency  Frequency  Monetary\n",
       "0      12347.0 2010-12-07 14:57:00       33          1    711.79\n",
       "1      12348.0 2010-12-16 19:09:00       24          1    892.80\n",
       "2      12370.0 2010-12-17 09:38:00       24          2   1868.02\n",
       "3      12377.0 2010-12-20 09:37:00       21          1   1001.52\n",
       "4      12383.0 2010-12-22 14:28:00       18          1    600.72"
      ]
     },
     "execution_count": 284,
     "metadata": {},
     "output_type": "execute_result"
    }
   ],
   "source": [
    "# Unimos los data sets para tener toda la informacion en uno solo\n",
    "\n",
    "customer = customer.merge(monetary, on='Customer_id')\n",
    "customer.head()\n"
   ]
  },
  {
   "cell_type": "code",
   "execution_count": 285,
   "id": "ee9ccccb",
   "metadata": {},
   "outputs": [
    {
     "data": {
      "image/png": "[encoded data removed]",
      "text/plain": [
       "<Figure size 640x480 with 1 Axes>"
      ]
     },
     "metadata": {},
     "output_type": "display_data"
    }
   ],
   "source": [
    "sns.histplot(data= customer, x= 'Monetary', kde= True, bins= 50)\n",
    "plt.show()"
   ]
  },
  {
   "cell_type": "code",
   "execution_count": 286,
   "id": "c011310a",
   "metadata": {},
   "outputs": [
    {
     "data": {
      "image/png": "[encoded data removed]",
      "text/plain": [
       "<Figure size 750x750 with 12 Axes>"
      ]
     },
     "metadata": {},
     "output_type": "display_data"
    }
   ],
   "source": [
    "sns.pairplot(customer[['Recency','Frequency','Monetary']])\n",
    "plt.show()"
   ]
  },
  {
   "cell_type": "code",
   "execution_count": 287,
   "id": "f53082e8",
   "metadata": {},
   "outputs": [
    {
     "name": "stdout",
     "output_type": "stream",
     "text": [
      "326.325\n"
     ]
    },
    {
     "data": {
      "text/plain": [
       "count     1030.000000\n",
       "mean       671.716544\n",
       "std       1455.778210\n",
       "min          1.250000\n",
       "25%        180.512500\n",
       "50%        326.325000\n",
       "75%        649.562500\n",
       "max      27834.610000\n",
       "Name: Monetary, dtype: float64"
      ]
     },
     "execution_count": 287,
     "metadata": {},
     "output_type": "execute_result"
    }
   ],
   "source": [
    "print(customer['Monetary'].median())\n",
    "customer['Monetary'].describe()"
   ]
  },
  {
   "cell_type": "markdown",
   "id": "cee977bd",
   "metadata": {},
   "source": [
    "Como se observa el gasto medio es cerca de 671 dolares, sin embargo este valor es mas alto que la mediana debido a posibles valores atipicos."
   ]
  },
  {
   "cell_type": "code",
   "execution_count": 288,
   "id": "dbb5198f",
   "metadata": {},
   "outputs": [
    {
     "name": "stdout",
     "output_type": "stream",
     "text": [
      "Percentiles 90/95/99: [1272.483  2153.891  6072.7309]\n"
     ]
    }
   ],
   "source": [
    "percentile = np.percentile(customer['Monetary'],[90,95,99])\n",
    "print('Percentiles 90/95/99:', percentile)"
   ]
  },
  {
   "cell_type": "markdown",
   "id": "10a72881",
   "metadata": {},
   "source": [
    "No mas del 1% de los clientes realizaron compras por valores superiores al 6072 dolares por lo que podriamos considerar como valores atipicos, podriamos considerarlos valores atipicos"
   ]
  },
  {
   "cell_type": "markdown",
   "id": "2882afd5",
   "metadata": {},
   "source": [
    "#### Algoritmo K-means \n",
    "\n",
    "(Algoritmo no supervisado)"
   ]
  },
  {
   "cell_type": "code",
   "execution_count": 289,
   "id": "d30c8548",
   "metadata": {},
   "outputs": [],
   "source": [
    "# Funcion para organizar clusters\n",
    "\n",
    "def order_cluster (cluster_field_name, target_field_name, df, ascending):\n",
    "    new_cluster_field_name = 'new' + cluster_field_name\n",
    "    df_new = df.groupby(cluster_field_name)[target_field_name].mean().reset_index()\n",
    "    df_new = df_new.sort_values(by=target_field_name,ascending= ascending).reset_index(drop= True)\n",
    "    df_new['index']= df_new.index\n",
    "    df_final= pd.merge(df,df_new[[cluster_field_name,'index']], on= cluster_field_name)\n",
    "    df_final= df_final.drop([cluster_field_name], axis=1)\n",
    "    df_final= df_final.rename(columns={'index':cluster_field_name})\n",
    "    return df_final"
   ]
  },
  {
   "cell_type": "code",
   "execution_count": 290,
   "id": "8daab133",
   "metadata": {},
   "outputs": [
    {
     "data": {
      "image/png": "[encoded data removed]",
      "text/plain": [
       "<Figure size 640x480 with 1 Axes>"
      ]
     },
     "metadata": {},
     "output_type": "display_data"
    }
   ],
   "source": [
    "# Vamos a realizar una grafica de codo para estimar el numero de clusters\n",
    "\n",
    "distortion= []\n",
    "K= range(1,10)\n",
    "\n",
    "for i in K:\n",
    "    kmeanmodel= KMeans(n_clusters= i)\n",
    "    kmeanmodel.fit(customer[['Recency']])\n",
    "    distortion.append(kmeanmodel.inertia_)\n",
    "\n",
    "# plot codo\n",
    "plt.plot(K,distortion,'bx-')\n",
    "plt.xlabel('No de clusters (K)')\n",
    "plt.ylabel('Optimo con el metodo de codo')\n",
    "plt.show()"
   ]
  },
  {
   "cell_type": "code",
   "execution_count": 291,
   "id": "8819347f",
   "metadata": {},
   "outputs": [
    {
     "data": {
      "text/html": [
       "<div>\n",
       "<style scoped>\n",
       "    .dataframe tbody tr th:only-of-type {\n",
       "        vertical-align: middle;\n",
       "    }\n",
       "\n",
       "    .dataframe tbody tr th {\n",
       "        vertical-align: top;\n",
       "    }\n",
       "\n",
       "    .dataframe thead th {\n",
       "        text-align: right;\n",
       "    }\n",
       "</style>\n",
       "<table border=\"1\" class=\"dataframe\">\n",
       "  <thead>\n",
       "    <tr style=\"text-align: right;\">\n",
       "      <th></th>\n",
       "      <th>Frequency</th>\n",
       "      <th>Recency</th>\n",
       "      <th>Monetary</th>\n",
       "    </tr>\n",
       "  </thead>\n",
       "  <tbody>\n",
       "    <tr>\n",
       "      <th>0</th>\n",
       "      <td>1</td>\n",
       "      <td>33</td>\n",
       "      <td>711.79</td>\n",
       "    </tr>\n",
       "    <tr>\n",
       "      <th>1</th>\n",
       "      <td>1</td>\n",
       "      <td>24</td>\n",
       "      <td>892.80</td>\n",
       "    </tr>\n",
       "    <tr>\n",
       "      <th>2</th>\n",
       "      <td>2</td>\n",
       "      <td>24</td>\n",
       "      <td>1868.02</td>\n",
       "    </tr>\n",
       "    <tr>\n",
       "      <th>3</th>\n",
       "      <td>1</td>\n",
       "      <td>21</td>\n",
       "      <td>1001.52</td>\n",
       "    </tr>\n",
       "    <tr>\n",
       "      <th>4</th>\n",
       "      <td>1</td>\n",
       "      <td>18</td>\n",
       "      <td>600.72</td>\n",
       "    </tr>\n",
       "    <tr>\n",
       "      <th>...</th>\n",
       "      <td>...</td>\n",
       "      <td>...</td>\n",
       "      <td>...</td>\n",
       "    </tr>\n",
       "    <tr>\n",
       "      <th>1025</th>\n",
       "      <td>1</td>\n",
       "      <td>21</td>\n",
       "      <td>50.10</td>\n",
       "    </tr>\n",
       "    <tr>\n",
       "      <th>1026</th>\n",
       "      <td>1</td>\n",
       "      <td>32</td>\n",
       "      <td>376.30</td>\n",
       "    </tr>\n",
       "    <tr>\n",
       "      <th>1027</th>\n",
       "      <td>2</td>\n",
       "      <td>0</td>\n",
       "      <td>787.77</td>\n",
       "    </tr>\n",
       "    <tr>\n",
       "      <th>1028</th>\n",
       "      <td>2</td>\n",
       "      <td>24</td>\n",
       "      <td>198.30</td>\n",
       "    </tr>\n",
       "    <tr>\n",
       "      <th>1029</th>\n",
       "      <td>1</td>\n",
       "      <td>3</td>\n",
       "      <td>108.45</td>\n",
       "    </tr>\n",
       "  </tbody>\n",
       "</table>\n",
       "<p>1030 rows × 3 columns</p>\n",
       "</div>"
      ],
      "text/plain": [
       "      Frequency  Recency  Monetary\n",
       "0             1       33    711.79\n",
       "1             1       24    892.80\n",
       "2             2       24   1868.02\n",
       "3             1       21   1001.52\n",
       "4             1       18    600.72\n",
       "...         ...      ...       ...\n",
       "1025          1       21     50.10\n",
       "1026          1       32    376.30\n",
       "1027          2        0    787.77\n",
       "1028          2       24    198.30\n",
       "1029          1        3    108.45\n",
       "\n",
       "[1030 rows x 3 columns]"
      ]
     },
     "execution_count": 291,
     "metadata": {},
     "output_type": "execute_result"
    }
   ],
   "source": [
    "RFM_data = customer[['Frequency','Recency','Monetary']].copy()\n",
    "RFM_data"
   ]
  },
  {
   "cell_type": "code",
   "execution_count": 292,
   "id": "cd0c5695",
   "metadata": {},
   "outputs": [
    {
     "data": {
      "text/html": [
       "<div>\n",
       "<style scoped>\n",
       "    .dataframe tbody tr th:only-of-type {\n",
       "        vertical-align: middle;\n",
       "    }\n",
       "\n",
       "    .dataframe tbody tr th {\n",
       "        vertical-align: top;\n",
       "    }\n",
       "\n",
       "    .dataframe thead th {\n",
       "        text-align: right;\n",
       "    }\n",
       "</style>\n",
       "<table border=\"1\" class=\"dataframe\">\n",
       "  <thead>\n",
       "    <tr style=\"text-align: right;\">\n",
       "      <th></th>\n",
       "      <th>Frequency</th>\n",
       "      <th>Recency</th>\n",
       "      <th>Monetary</th>\n",
       "    </tr>\n",
       "    <tr>\n",
       "      <th>Cluster_km</th>\n",
       "      <th></th>\n",
       "      <th></th>\n",
       "      <th></th>\n",
       "    </tr>\n",
       "  </thead>\n",
       "  <tbody>\n",
       "    <tr>\n",
       "      <th>0</th>\n",
       "      <td>6.333333</td>\n",
       "      <td>7.166667</td>\n",
       "      <td>8297.331111</td>\n",
       "    </tr>\n",
       "    <tr>\n",
       "      <th>1</th>\n",
       "      <td>1.490145</td>\n",
       "      <td>29.186597</td>\n",
       "      <td>411.243968</td>\n",
       "    </tr>\n",
       "    <tr>\n",
       "      <th>2</th>\n",
       "      <td>2.357724</td>\n",
       "      <td>3.756098</td>\n",
       "      <td>839.336951</td>\n",
       "    </tr>\n",
       "    <tr>\n",
       "      <th>3</th>\n",
       "      <td>21.800000</td>\n",
       "      <td>8.800000</td>\n",
       "      <td>4616.506000</td>\n",
       "    </tr>\n",
       "  </tbody>\n",
       "</table>\n",
       "</div>"
      ],
      "text/plain": [
       "            Frequency    Recency     Monetary\n",
       "Cluster_km                                   \n",
       "0            6.333333   7.166667  8297.331111\n",
       "1            1.490145  29.186597   411.243968\n",
       "2            2.357724   3.756098   839.336951\n",
       "3           21.800000   8.800000  4616.506000"
      ]
     },
     "execution_count": 292,
     "metadata": {},
     "output_type": "execute_result"
    }
   ],
   "source": [
    "sc= StandardScaler()\n",
    "X_sc= sc.fit_transform(RFM_data)\n",
    "\n",
    "km= KMeans(n_clusters=4, random_state=0)\n",
    "\n",
    "labels= km.fit_predict(X_sc)\n",
    "\n",
    "RFM_data['Cluster_km']= labels\n",
    "\n",
    "RFM_data.groupby('Cluster_km').mean()"
   ]
  },
  {
   "cell_type": "code",
   "execution_count": 293,
   "id": "c31c3388",
   "metadata": {},
   "outputs": [
    {
     "name": "stdout",
     "output_type": "stream",
     "text": [
      "Cluster_km\n",
      "0     18\n",
      "1    761\n",
      "2    246\n",
      "3      5\n",
      "Name: count, dtype: int64\n"
     ]
    }
   ],
   "source": [
    "print(RFM_data['Cluster_km'].value_counts().sort_index())"
   ]
  },
  {
   "cell_type": "code",
   "execution_count": 294,
   "id": "b9cb8cd1",
   "metadata": {},
   "outputs": [
    {
     "data": {
      "text/html": [
       "<div>\n",
       "<style scoped>\n",
       "    .dataframe tbody tr th:only-of-type {\n",
       "        vertical-align: middle;\n",
       "    }\n",
       "\n",
       "    .dataframe tbody tr th {\n",
       "        vertical-align: top;\n",
       "    }\n",
       "\n",
       "    .dataframe thead th {\n",
       "        text-align: right;\n",
       "    }\n",
       "</style>\n",
       "<table border=\"1\" class=\"dataframe\">\n",
       "  <thead>\n",
       "    <tr style=\"text-align: right;\">\n",
       "      <th></th>\n",
       "      <th>count</th>\n",
       "      <th>mean</th>\n",
       "      <th>std</th>\n",
       "      <th>min</th>\n",
       "      <th>25%</th>\n",
       "      <th>50%</th>\n",
       "      <th>75%</th>\n",
       "      <th>max</th>\n",
       "    </tr>\n",
       "    <tr>\n",
       "      <th>Recency_cluster</th>\n",
       "      <th></th>\n",
       "      <th></th>\n",
       "      <th></th>\n",
       "      <th></th>\n",
       "      <th></th>\n",
       "      <th></th>\n",
       "      <th></th>\n",
       "      <th></th>\n",
       "    </tr>\n",
       "  </thead>\n",
       "  <tbody>\n",
       "    <tr>\n",
       "      <th>0</th>\n",
       "      <td>382.0</td>\n",
       "      <td>34.193717</td>\n",
       "      <td>2.893410</td>\n",
       "      <td>30.0</td>\n",
       "      <td>32.00</td>\n",
       "      <td>34.0</td>\n",
       "      <td>37.0</td>\n",
       "      <td>39.0</td>\n",
       "    </tr>\n",
       "    <tr>\n",
       "      <th>1</th>\n",
       "      <td>400.0</td>\n",
       "      <td>23.935000</td>\n",
       "      <td>3.057638</td>\n",
       "      <td>17.0</td>\n",
       "      <td>22.75</td>\n",
       "      <td>25.0</td>\n",
       "      <td>26.0</td>\n",
       "      <td>29.0</td>\n",
       "    </tr>\n",
       "    <tr>\n",
       "      <th>2</th>\n",
       "      <td>248.0</td>\n",
       "      <td>2.709677</td>\n",
       "      <td>1.746131</td>\n",
       "      <td>0.0</td>\n",
       "      <td>1.00</td>\n",
       "      <td>3.0</td>\n",
       "      <td>4.0</td>\n",
       "      <td>6.0</td>\n",
       "    </tr>\n",
       "  </tbody>\n",
       "</table>\n",
       "</div>"
      ],
      "text/plain": [
       "                 count       mean       std   min    25%   50%   75%   max\n",
       "Recency_cluster                                                           \n",
       "0                382.0  34.193717  2.893410  30.0  32.00  34.0  37.0  39.0\n",
       "1                400.0  23.935000  3.057638  17.0  22.75  25.0  26.0  29.0\n",
       "2                248.0   2.709677  1.746131   0.0   1.00   3.0   4.0   6.0"
      ]
     },
     "execution_count": 294,
     "metadata": {},
     "output_type": "execute_result"
    }
   ],
   "source": [
    "# Podemos realizar un ajuste variable por variable para tener mejores resultados.\n",
    "\n",
    "km= KMeans(n_clusters=3, random_state=0)\n",
    "\n",
    "# Entrenar algoritmo\n",
    "km.fit(customer[['Recency']])\n",
    "\n",
    "# Obtener las predicciones\n",
    "customer['Recency_cluster'] = km.predict(customer[['Recency']])\n",
    "\n",
    "#ordenar los clusters\n",
    "customer = order_cluster('Recency_cluster','Recency', customer,False)\n",
    "\n",
    "customer.groupby('Recency_cluster')['Recency'].describe()"
   ]
  },
  {
   "cell_type": "code",
   "execution_count": 295,
   "id": "6098c6f8",
   "metadata": {},
   "outputs": [
    {
     "data": {
      "text/html": [
       "<div>\n",
       "<style scoped>\n",
       "    .dataframe tbody tr th:only-of-type {\n",
       "        vertical-align: middle;\n",
       "    }\n",
       "\n",
       "    .dataframe tbody tr th {\n",
       "        vertical-align: top;\n",
       "    }\n",
       "\n",
       "    .dataframe thead th {\n",
       "        text-align: right;\n",
       "    }\n",
       "</style>\n",
       "<table border=\"1\" class=\"dataframe\">\n",
       "  <thead>\n",
       "    <tr style=\"text-align: right;\">\n",
       "      <th></th>\n",
       "      <th>count</th>\n",
       "      <th>mean</th>\n",
       "      <th>std</th>\n",
       "      <th>min</th>\n",
       "      <th>25%</th>\n",
       "      <th>50%</th>\n",
       "      <th>75%</th>\n",
       "      <th>max</th>\n",
       "    </tr>\n",
       "    <tr>\n",
       "      <th>Frequency_cluster</th>\n",
       "      <th></th>\n",
       "      <th></th>\n",
       "      <th></th>\n",
       "      <th></th>\n",
       "      <th></th>\n",
       "      <th></th>\n",
       "      <th></th>\n",
       "      <th></th>\n",
       "    </tr>\n",
       "  </thead>\n",
       "  <tbody>\n",
       "    <tr>\n",
       "      <th>0</th>\n",
       "      <td>7.0</td>\n",
       "      <td>19.285714</td>\n",
       "      <td>9.569296</td>\n",
       "      <td>13.0</td>\n",
       "      <td>13.0</td>\n",
       "      <td>15.0</td>\n",
       "      <td>21.0</td>\n",
       "      <td>39.0</td>\n",
       "    </tr>\n",
       "    <tr>\n",
       "      <th>1</th>\n",
       "      <td>192.0</td>\n",
       "      <td>3.937500</td>\n",
       "      <td>1.431233</td>\n",
       "      <td>3.0</td>\n",
       "      <td>3.0</td>\n",
       "      <td>3.0</td>\n",
       "      <td>4.0</td>\n",
       "      <td>11.0</td>\n",
       "    </tr>\n",
       "    <tr>\n",
       "      <th>2</th>\n",
       "      <td>831.0</td>\n",
       "      <td>1.258724</td>\n",
       "      <td>0.438198</td>\n",
       "      <td>1.0</td>\n",
       "      <td>1.0</td>\n",
       "      <td>1.0</td>\n",
       "      <td>2.0</td>\n",
       "      <td>2.0</td>\n",
       "    </tr>\n",
       "  </tbody>\n",
       "</table>\n",
       "</div>"
      ],
      "text/plain": [
       "                   count       mean       std   min   25%   50%   75%   max\n",
       "Frequency_cluster                                                          \n",
       "0                    7.0  19.285714  9.569296  13.0  13.0  15.0  21.0  39.0\n",
       "1                  192.0   3.937500  1.431233   3.0   3.0   3.0   4.0  11.0\n",
       "2                  831.0   1.258724  0.438198   1.0   1.0   1.0   2.0   2.0"
      ]
     },
     "execution_count": 295,
     "metadata": {},
     "output_type": "execute_result"
    }
   ],
   "source": [
    "km= KMeans(n_clusters=3, random_state=0)\n",
    "\n",
    "# Entrenar algoritmo\n",
    "km.fit(customer[['Frequency']])\n",
    "\n",
    "# Obtener las predicciones\n",
    "customer['Frequency_cluster'] = km.predict(customer[['Frequency']])\n",
    "\n",
    "#ordenar los clusters\n",
    "customer = order_cluster('Frequency_cluster','Frequency', customer,False)\n",
    "\n",
    "customer.groupby('Frequency_cluster')['Frequency'].describe()"
   ]
  },
  {
   "cell_type": "code",
   "execution_count": 296,
   "id": "65190006",
   "metadata": {},
   "outputs": [
    {
     "data": {
      "text/html": [
       "<div>\n",
       "<style scoped>\n",
       "    .dataframe tbody tr th:only-of-type {\n",
       "        vertical-align: middle;\n",
       "    }\n",
       "\n",
       "    .dataframe tbody tr th {\n",
       "        vertical-align: top;\n",
       "    }\n",
       "\n",
       "    .dataframe thead th {\n",
       "        text-align: right;\n",
       "    }\n",
       "</style>\n",
       "<table border=\"1\" class=\"dataframe\">\n",
       "  <thead>\n",
       "    <tr style=\"text-align: right;\">\n",
       "      <th></th>\n",
       "      <th>count</th>\n",
       "      <th>mean</th>\n",
       "      <th>std</th>\n",
       "      <th>min</th>\n",
       "      <th>25%</th>\n",
       "      <th>50%</th>\n",
       "      <th>75%</th>\n",
       "      <th>max</th>\n",
       "    </tr>\n",
       "    <tr>\n",
       "      <th>Monetary_cluster</th>\n",
       "      <th></th>\n",
       "      <th></th>\n",
       "      <th></th>\n",
       "      <th></th>\n",
       "      <th></th>\n",
       "      <th></th>\n",
       "      <th></th>\n",
       "      <th></th>\n",
       "    </tr>\n",
       "  </thead>\n",
       "  <tbody>\n",
       "    <tr>\n",
       "      <th>0</th>\n",
       "      <td>2.0</td>\n",
       "      <td>23903.435000</td>\n",
       "      <td>5559.521001</td>\n",
       "      <td>19972.26</td>\n",
       "      <td>21937.8475</td>\n",
       "      <td>23903.435</td>\n",
       "      <td>25869.0225</td>\n",
       "      <td>27834.61</td>\n",
       "    </tr>\n",
       "    <tr>\n",
       "      <th>1</th>\n",
       "      <td>43.0</td>\n",
       "      <td>4640.095581</td>\n",
       "      <td>1968.741867</td>\n",
       "      <td>2614.15</td>\n",
       "      <td>3116.8100</td>\n",
       "      <td>3891.870</td>\n",
       "      <td>5767.6900</td>\n",
       "      <td>9590.40</td>\n",
       "    </tr>\n",
       "    <tr>\n",
       "      <th>2</th>\n",
       "      <td>985.0</td>\n",
       "      <td>451.306660</td>\n",
       "      <td>430.787932</td>\n",
       "      <td>1.25</td>\n",
       "      <td>174.4000</td>\n",
       "      <td>316.580</td>\n",
       "      <td>556.5000</td>\n",
       "      <td>2470.44</td>\n",
       "    </tr>\n",
       "  </tbody>\n",
       "</table>\n",
       "</div>"
      ],
      "text/plain": [
       "                  count          mean          std       min         25%  \\\n",
       "Monetary_cluster                                                           \n",
       "0                   2.0  23903.435000  5559.521001  19972.26  21937.8475   \n",
       "1                  43.0   4640.095581  1968.741867   2614.15   3116.8100   \n",
       "2                 985.0    451.306660   430.787932      1.25    174.4000   \n",
       "\n",
       "                        50%         75%       max  \n",
       "Monetary_cluster                                   \n",
       "0                 23903.435  25869.0225  27834.61  \n",
       "1                  3891.870   5767.6900   9590.40  \n",
       "2                   316.580    556.5000   2470.44  "
      ]
     },
     "execution_count": 296,
     "metadata": {},
     "output_type": "execute_result"
    }
   ],
   "source": [
    "km= KMeans(n_clusters=3, random_state=0)\n",
    "\n",
    "# Entrenar algoritmo\n",
    "km.fit(customer[['Monetary']])\n",
    "\n",
    "# Obtener las predicciones\n",
    "customer['Monetary_cluster'] = km.predict(customer[['Monetary']])\n",
    "\n",
    "\n",
    "#ordenar los clusters\n",
    "customer = order_cluster('Monetary_cluster','Monetary', customer,False)\n",
    "\n",
    "customer.groupby('Monetary_cluster')['Monetary'].describe()"
   ]
  },
  {
   "cell_type": "code",
   "execution_count": 297,
   "id": "0c8a0192",
   "metadata": {},
   "outputs": [
    {
     "data": {
      "text/html": [
       "<div>\n",
       "<style scoped>\n",
       "    .dataframe tbody tr th:only-of-type {\n",
       "        vertical-align: middle;\n",
       "    }\n",
       "\n",
       "    .dataframe tbody tr th {\n",
       "        vertical-align: top;\n",
       "    }\n",
       "\n",
       "    .dataframe thead th {\n",
       "        text-align: right;\n",
       "    }\n",
       "</style>\n",
       "<table border=\"1\" class=\"dataframe\">\n",
       "  <thead>\n",
       "    <tr style=\"text-align: right;\">\n",
       "      <th></th>\n",
       "      <th>Recency</th>\n",
       "      <th>Frequency</th>\n",
       "      <th>Monetary</th>\n",
       "    </tr>\n",
       "    <tr>\n",
       "      <th>Score</th>\n",
       "      <th></th>\n",
       "      <th></th>\n",
       "      <th></th>\n",
       "    </tr>\n",
       "  </thead>\n",
       "  <tbody>\n",
       "    <tr>\n",
       "      <th>1</th>\n",
       "      <td>34.500000</td>\n",
       "      <td>14.000000</td>\n",
       "      <td>15863.240000</td>\n",
       "    </tr>\n",
       "    <tr>\n",
       "      <th>2</th>\n",
       "      <td>19.000000</td>\n",
       "      <td>8.000000</td>\n",
       "      <td>11787.990000</td>\n",
       "    </tr>\n",
       "    <tr>\n",
       "      <th>3</th>\n",
       "      <td>25.742857</td>\n",
       "      <td>5.457143</td>\n",
       "      <td>2517.118000</td>\n",
       "    </tr>\n",
       "    <tr>\n",
       "      <th>4</th>\n",
       "      <td>30.962637</td>\n",
       "      <td>1.780220</td>\n",
       "      <td>597.499495</td>\n",
       "    </tr>\n",
       "    <tr>\n",
       "      <th>5</th>\n",
       "      <td>20.348958</td>\n",
       "      <td>1.789062</td>\n",
       "      <td>520.985703</td>\n",
       "    </tr>\n",
       "    <tr>\n",
       "      <th>6</th>\n",
       "      <td>2.618421</td>\n",
       "      <td>1.348684</td>\n",
       "      <td>503.589934</td>\n",
       "    </tr>\n",
       "  </tbody>\n",
       "</table>\n",
       "</div>"
      ],
      "text/plain": [
       "         Recency  Frequency      Monetary\n",
       "Score                                    \n",
       "1      34.500000  14.000000  15863.240000\n",
       "2      19.000000   8.000000  11787.990000\n",
       "3      25.742857   5.457143   2517.118000\n",
       "4      30.962637   1.780220    597.499495\n",
       "5      20.348958   1.789062    520.985703\n",
       "6       2.618421   1.348684    503.589934"
      ]
     },
     "execution_count": 297,
     "metadata": {},
     "output_type": "execute_result"
    }
   ],
   "source": [
    "# Vamos a crear un nuevo scored sumando el valor de cada uno de los clusters\n",
    "customer['Score']= customer['Recency_cluster'] + customer['Frequency_cluster'] + customer['Monetary_cluster']\n",
    "\n",
    "# Obtener el proemdio para cada una de las metricas de las calificaciones creadas\n",
    "customer.groupby('Score')[['Recency','Frequency','Monetary']].mean()\n"
   ]
  },
  {
   "cell_type": "code",
   "execution_count": 298,
   "id": "c65b9d18",
   "metadata": {},
   "outputs": [],
   "source": [
    "# Crear una funcion para asignar su valores segun su Score\n",
    "\n",
    "def segmentacion (Score):\n",
    "    if(0 <= Score <=1):\n",
    "        s='Hight-value'\n",
    "    elif(2 <= Score <= 5):\n",
    "        s='Potencial'\n",
    "    else:\n",
    "        s= 'Clientes-regulares'\n",
    "    return s\n",
    "\n",
    "customer['Segmento']= customer.apply(lambda x: segmentacion(x['Score']), axis=1)"
   ]
  },
  {
   "cell_type": "code",
   "execution_count": 299,
   "id": "77faaf88",
   "metadata": {},
   "outputs": [
    {
     "data": {
      "text/html": [
       "<div>\n",
       "<style scoped>\n",
       "    .dataframe tbody tr th:only-of-type {\n",
       "        vertical-align: middle;\n",
       "    }\n",
       "\n",
       "    .dataframe tbody tr th {\n",
       "        vertical-align: top;\n",
       "    }\n",
       "\n",
       "    .dataframe thead th {\n",
       "        text-align: right;\n",
       "    }\n",
       "</style>\n",
       "<table border=\"1\" class=\"dataframe\">\n",
       "  <thead>\n",
       "    <tr style=\"text-align: right;\">\n",
       "      <th></th>\n",
       "      <th>Customer_id</th>\n",
       "      <th>Last_purchase</th>\n",
       "      <th>Recency</th>\n",
       "      <th>Frequency</th>\n",
       "      <th>Monetary</th>\n",
       "      <th>Recency_cluster</th>\n",
       "      <th>Frequency_cluster</th>\n",
       "      <th>Monetary_cluster</th>\n",
       "      <th>Score</th>\n",
       "      <th>Segmento</th>\n",
       "    </tr>\n",
       "  </thead>\n",
       "  <tbody>\n",
       "    <tr>\n",
       "      <th>439</th>\n",
       "      <td>15046.0</td>\n",
       "      <td>2011-01-05 15:30:00</td>\n",
       "      <td>4</td>\n",
       "      <td>1</td>\n",
       "      <td>511.95</td>\n",
       "      <td>2</td>\n",
       "      <td>2</td>\n",
       "      <td>2</td>\n",
       "      <td>6</td>\n",
       "      <td>Clientes-regulares</td>\n",
       "    </tr>\n",
       "    <tr>\n",
       "      <th>149</th>\n",
       "      <td>13165.0</td>\n",
       "      <td>2010-12-23 14:06:00</td>\n",
       "      <td>17</td>\n",
       "      <td>1</td>\n",
       "      <td>354.64</td>\n",
       "      <td>1</td>\n",
       "      <td>2</td>\n",
       "      <td>2</td>\n",
       "      <td>5</td>\n",
       "      <td>Potencial</td>\n",
       "    </tr>\n",
       "    <tr>\n",
       "      <th>27</th>\n",
       "      <td>12500.0</td>\n",
       "      <td>2011-01-10 09:48:00</td>\n",
       "      <td>0</td>\n",
       "      <td>1</td>\n",
       "      <td>344.94</td>\n",
       "      <td>2</td>\n",
       "      <td>2</td>\n",
       "      <td>2</td>\n",
       "      <td>6</td>\n",
       "      <td>Clientes-regulares</td>\n",
       "    </tr>\n",
       "    <tr>\n",
       "      <th>871</th>\n",
       "      <td>17470.0</td>\n",
       "      <td>2010-12-07 09:57:00</td>\n",
       "      <td>34</td>\n",
       "      <td>1</td>\n",
       "      <td>178.40</td>\n",
       "      <td>0</td>\n",
       "      <td>2</td>\n",
       "      <td>2</td>\n",
       "      <td>4</td>\n",
       "      <td>Potencial</td>\n",
       "    </tr>\n",
       "    <tr>\n",
       "      <th>788</th>\n",
       "      <td>17059.0</td>\n",
       "      <td>2010-12-05 12:35:00</td>\n",
       "      <td>35</td>\n",
       "      <td>1</td>\n",
       "      <td>722.36</td>\n",
       "      <td>0</td>\n",
       "      <td>2</td>\n",
       "      <td>2</td>\n",
       "      <td>4</td>\n",
       "      <td>Potencial</td>\n",
       "    </tr>\n",
       "  </tbody>\n",
       "</table>\n",
       "</div>"
      ],
      "text/plain": [
       "     Customer_id       Last_purchase  Recency  Frequency  Monetary  \\\n",
       "439      15046.0 2011-01-05 15:30:00        4          1    511.95   \n",
       "149      13165.0 2010-12-23 14:06:00       17          1    354.64   \n",
       "27       12500.0 2011-01-10 09:48:00        0          1    344.94   \n",
       "871      17470.0 2010-12-07 09:57:00       34          1    178.40   \n",
       "788      17059.0 2010-12-05 12:35:00       35          1    722.36   \n",
       "\n",
       "     Recency_cluster  Frequency_cluster  Monetary_cluster  Score  \\\n",
       "439                2                  2                 2      6   \n",
       "149                1                  2                 2      5   \n",
       "27                 2                  2                 2      6   \n",
       "871                0                  2                 2      4   \n",
       "788                0                  2                 2      4   \n",
       "\n",
       "               Segmento  \n",
       "439  Clientes-regulares  \n",
       "149           Potencial  \n",
       "27   Clientes-regulares  \n",
       "871           Potencial  \n",
       "788           Potencial  "
      ]
     },
     "execution_count": 299,
     "metadata": {},
     "output_type": "execute_result"
    }
   ],
   "source": [
    "customer.sample(5)"
   ]
  },
  {
   "cell_type": "code",
   "execution_count": 300,
   "id": "8eb2e6fc",
   "metadata": {},
   "outputs": [
    {
     "data": {
      "text/plain": [
       "Segmento\n",
       "Potencial             876\n",
       "Clientes-regulares    152\n",
       "Hight-value             2\n",
       "Name: count, dtype: int64"
      ]
     },
     "execution_count": 300,
     "metadata": {},
     "output_type": "execute_result"
    }
   ],
   "source": [
    "customer.value_counts('Segmento')"
   ]
  },
  {
   "cell_type": "code",
   "execution_count": 301,
   "id": "965ef902",
   "metadata": {},
   "outputs": [
    {
     "data": {
      "image/png": "[encoded data removed]",
      "text/plain": [
       "<Figure size 1000x600 with 1 Axes>"
      ]
     },
     "metadata": {},
     "output_type": "display_data"
    }
   ],
   "source": [
    "\n",
    "plt.figure(figsize=(10,6))\n",
    "sns.scatterplot(data= customer, x='Recency',y= 'Monetary', hue='Segmento', palette='YlOrBr')\n",
    "plt.title('Monetary vs Recency by Segment')\n",
    "plt.show()\n",
    "\n"
   ]
  },
  {
   "cell_type": "code",
   "execution_count": 302,
   "id": "c3862b89",
   "metadata": {},
   "outputs": [
    {
     "data": {
      "image/png": "[encoded data removed]",
      "text/plain": [
       "<Figure size 1000x600 with 1 Axes>"
      ]
     },
     "metadata": {},
     "output_type": "display_data"
    }
   ],
   "source": [
    "plt.figure(figsize=(10,6))\n",
    "sns.scatterplot(data= customer, x='Frequency',y= 'Monetary', hue='Segmento', palette='YlOrBr')\n",
    "plt.title('Monetary vs Frecuency by Segment')\n",
    "plt.show()"
   ]
  },
  {
   "cell_type": "markdown",
   "id": "502da363",
   "metadata": {},
   "source": [
    "#### Conclusiones y Recomendaciones \n",
    "\n",
    "* 'Hight-value'\n",
    "Si bien el segmento representa un gran ingreso monetario no son muchos clientes que entren en este rango, Contacto personalizado para investigar su ausencia, Oferta exclusiva de reactivación con beneficios premium, Encuesta de satisfacción con incentivo para entender su abandono, Programa de recuperación con atención preferencial.\n",
    "\n",
    "*  'Potencial'\n",
    "Como su nombre lo indica es el segmento con mas potencial,se pueden desarrollar programas para aumentar la frecuencia,Programas de lealtad con descuentos por frecuencia de compra, Ofertas de productos premium para aumentar el ticket promedio, Comunicación personalizada con recomendaciones, Beneficios escalonados por volumen de compras\n",
    "\n",
    "* 'Clientes Regulares'\n",
    "Son los clientes que suelen comprar mas a menudo y los productos que compran son menores, se recomiendan Programas de segunda compra con descuentos progresivos, Descuentos por cantidad para incentivar compras mayores, Campañas de product bundling para aumentar el valor del carrito, Comunicación de nuevos lanzamientos que se alineen con sus patrones de compra, Programas de fidelización simples y fáciles de entender"
   ]
  }
 ],
 "metadata": {
  "kernelspec": {
   "display_name": "3.12.10",
   "language": "python",
   "name": "python3"
  },
  "language_info": {
   "codemirror_mode": {
    "name": "ipython",
    "version": 3
   },
   "file_extension": ".py",
   "mimetype": "text/x-python",
   "name": "python",
   "nbconvert_exporter": "python",
   "pygments_lexer": "ipython3",
   "version": "3.12.10"
  }
 },
 "nbformat": 4,
 "nbformat_minor": 5
}
